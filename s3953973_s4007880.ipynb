{
 "cells": [
  {
   "cell_type": "markdown",
   "id": "80a13160",
   "metadata": {},
   "source": [
    "<h3>Machine Learning Assignment 2</h3>"
   ]
  }
 ],
 "metadata": {
  "language_info": {
   "name": "python"
  }
 },
 "nbformat": 4,
 "nbformat_minor": 5
}
