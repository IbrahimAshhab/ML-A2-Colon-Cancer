{
 "cells": [
  {
   "cell_type": "markdown",
   "id": "80a13160",
   "metadata": {},
   "source": [
    "## Machine Learning Assignment 2"
   ]
  },
  {
   "cell_type": "code",
   "execution_count": 1,
   "id": "5e4e7f31",
   "metadata": {},
   "outputs": [],
   "source": [
    "import numpy as np\n",
    "import pandas as pd\n",
    "from sklearn.model_selection import train_test_split\n",
    "import warnings\n",
    "import zipfile\n",
    "\n",
    "warnings.filterwarnings(\"ignore\")\n",
    "with zipfile.ZipFile('./Image_classification_data.zip', 'r') as zip_ref:\n",
    "    zip_ref.extractall('./')\n",
    "\n",
    "data = pd.read_csv('data_labels_mainData.csv')"
   ]
  },
  {
   "cell_type": "markdown",
   "id": "40d89d2a",
   "metadata": {},
   "source": [
    "### Exploratory Data Analysis"
   ]
  },
  {
   "cell_type": "markdown",
   "id": "e6a14cb4",
   "metadata": {},
   "source": [
    "Lets see the data we are working with"
   ]
  },
  {
   "cell_type": "code",
   "execution_count": 2,
   "id": "beb1c8bc",
   "metadata": {},
   "outputs": [
    {
     "data": {
      "text/plain": [
       "(9896, 6)"
      ]
     },
     "execution_count": 2,
     "metadata": {},
     "output_type": "execute_result"
    }
   ],
   "source": [
    "data.shape"
   ]
  },
  {
   "cell_type": "code",
   "execution_count": 3,
   "id": "6e4b2d05",
   "metadata": {},
   "outputs": [
    {
     "data": {
      "text/html": [
       "<div>\n",
       "<style scoped>\n",
       "    .dataframe tbody tr th:only-of-type {\n",
       "        vertical-align: middle;\n",
       "    }\n",
       "\n",
       "    .dataframe tbody tr th {\n",
       "        vertical-align: top;\n",
       "    }\n",
       "\n",
       "    .dataframe thead th {\n",
       "        text-align: right;\n",
       "    }\n",
       "</style>\n",
       "<table border=\"1\" class=\"dataframe\">\n",
       "  <thead>\n",
       "    <tr style=\"text-align: right;\">\n",
       "      <th></th>\n",
       "      <th>InstanceID</th>\n",
       "      <th>patientID</th>\n",
       "      <th>ImageName</th>\n",
       "      <th>cellTypeName</th>\n",
       "      <th>cellType</th>\n",
       "      <th>isCancerous</th>\n",
       "    </tr>\n",
       "  </thead>\n",
       "  <tbody>\n",
       "    <tr>\n",
       "      <th>0</th>\n",
       "      <td>22405</td>\n",
       "      <td>1</td>\n",
       "      <td>22405.png</td>\n",
       "      <td>fibroblast</td>\n",
       "      <td>0</td>\n",
       "      <td>0</td>\n",
       "    </tr>\n",
       "    <tr>\n",
       "      <th>1</th>\n",
       "      <td>22406</td>\n",
       "      <td>1</td>\n",
       "      <td>22406.png</td>\n",
       "      <td>fibroblast</td>\n",
       "      <td>0</td>\n",
       "      <td>0</td>\n",
       "    </tr>\n",
       "    <tr>\n",
       "      <th>2</th>\n",
       "      <td>22407</td>\n",
       "      <td>1</td>\n",
       "      <td>22407.png</td>\n",
       "      <td>fibroblast</td>\n",
       "      <td>0</td>\n",
       "      <td>0</td>\n",
       "    </tr>\n",
       "    <tr>\n",
       "      <th>3</th>\n",
       "      <td>22408</td>\n",
       "      <td>1</td>\n",
       "      <td>22408.png</td>\n",
       "      <td>fibroblast</td>\n",
       "      <td>0</td>\n",
       "      <td>0</td>\n",
       "    </tr>\n",
       "    <tr>\n",
       "      <th>4</th>\n",
       "      <td>22409</td>\n",
       "      <td>1</td>\n",
       "      <td>22409.png</td>\n",
       "      <td>fibroblast</td>\n",
       "      <td>0</td>\n",
       "      <td>0</td>\n",
       "    </tr>\n",
       "  </tbody>\n",
       "</table>\n",
       "</div>"
      ],
      "text/plain": [
       "   InstanceID  patientID  ImageName cellTypeName  cellType  isCancerous\n",
       "0       22405          1  22405.png   fibroblast         0            0\n",
       "1       22406          1  22406.png   fibroblast         0            0\n",
       "2       22407          1  22407.png   fibroblast         0            0\n",
       "3       22408          1  22408.png   fibroblast         0            0\n",
       "4       22409          1  22409.png   fibroblast         0            0"
      ]
     },
     "execution_count": 3,
     "metadata": {},
     "output_type": "execute_result"
    }
   ],
   "source": [
    "data.head()"
   ]
  },
  {
   "cell_type": "code",
   "execution_count": 4,
   "id": "e556bfba",
   "metadata": {},
   "outputs": [
    {
     "data": {
      "text/plain": [
       "array([0, 1])"
      ]
     },
     "execution_count": 4,
     "metadata": {},
     "output_type": "execute_result"
    }
   ],
   "source": [
    "data['isCancerous'].unique()"
   ]
  },
  {
   "cell_type": "markdown",
   "id": "4c8cdc8c",
   "metadata": {},
   "source": [
    "Observations:\n",
    "- the target variable is binary encoded"
   ]
  },
  {
   "cell_type": "markdown",
   "id": "e07e9de6",
   "metadata": {},
   "source": [
    "Lets see if the classification of the target variable is balanced:"
   ]
  },
  {
   "cell_type": "code",
   "execution_count": 12,
   "id": "b0db9251",
   "metadata": {},
   "outputs": [
    {
     "data": {
      "image/png": "[encoded data removed]",
      "text/plain": [
       "<Figure size 640x480 with 1 Axes>"
      ]
     },
     "metadata": {},
     "output_type": "display_data"
    },
    {
     "name": "stdout",
     "output_type": "stream",
     "text": [
      "0 (Non-Cancerous): 5817\n",
      "1 (Cancerous): 4079\n"
     ]
    }
   ],
   "source": [
    "import matplotlib.pyplot as plt\n",
    "\n",
    "plt.title('Class Distribution of Target Variable')\n",
    "\n",
    "class_count = data['isCancerous'].value_counts()\n",
    "\n",
    "# number of samples in each class\n",
    "class_counts = [class_count[0], class_count[1]]\n",
    "\n",
    "# create the pie chart\n",
    "plt.pie(class_counts, labels=['0 (Non-Cancerous)', '1 (Cancerous)'], autopct='%1.1f%%')\n",
    "plt.show()\n",
    "print(\"0 (Non-Cancerous):\", class_count[0])\n",
    "print(\"1 (Cancerous):\", class_count[1])"
   ]
  },
  {
   "cell_type": "markdown",
   "id": "2ad1329a",
   "metadata": {},
   "source": [
    "Observations:\n",
    "- the classes are slightly imbalanced\n",
    "- the 0 (Non-Cancerous) class has approximately 1700 more samples which makes up 8.8% of the data"
   ]
  },
  {
   "cell_type": "markdown",
   "id": "c8e6d8a8",
   "metadata": {},
   "source": [
    "Lets see if we have any null values in the data:"
   ]
  },
  {
   "cell_type": "code",
   "execution_count": null,
   "id": "5fb978a4",
   "metadata": {},
   "outputs": [],
   "source": [
    "data.info()"
   ]
  },
  {
   "cell_type": "markdown",
   "id": "a76851f1",
   "metadata": {},
   "source": [
    "Observations:\n",
    "- there are no null values in the data\n",
    "- the datatypes in the ImageName, and cellTypeName columns are object but it is better to have them as string"
   ]
  },
  {
   "cell_type": "markdown",
   "id": "ccff07ee",
   "metadata": {},
   "source": [
    "Lets examine the statistical analysis of the data:"
   ]
  },
  {
   "cell_type": "code",
   "execution_count": null,
   "id": "f3a90c23",
   "metadata": {},
   "outputs": [],
   "source": [
    "data.describe()"
   ]
  },
  {
   "cell_type": "markdown",
   "id": "4f43dba4",
   "metadata": {},
   "source": [
    "Lets look at a few randomly selected images in each class to see the variation in the images:"
   ]
  },
  {
   "cell_type": "code",
   "execution_count": null,
   "id": "360ef815",
   "metadata": {},
   "outputs": [],
   "source": [
    "from PIL import Image\n",
    "\n",
    "# defining class labels\n",
    "class_labels = ['Non-cancerous', 'Cancerous']\n",
    "\n",
    "# randomly selecting images\n",
    "num_samples = 12\n",
    "sample_df = data.sample(num_samples)\n",
    "\n",
    "# plotting the images in a grid\n",
    "fig, axes = plt.subplots(3, 4,  figsize=(10, 10))\n",
    "\n",
    "for i, ax in enumerate(axes.flat):\n",
    "    image_path = sample_df.iloc[i]['ImageName']\n",
    "    label = sample_df.iloc[i]['isCancerous']\n",
    "\n",
    "    # loading and displaying the images\n",
    "    image = Image.open('./patch_images/' + image_path)\n",
    "    ax.axis('off')\n",
    "    ax.set_title(class_labels[label])\n",
    "    ax.imshow(image)\n",
    "\n",
    "plt.tight_layout()\n",
    "plt.show()"
   ]
  },
  {
   "cell_type": "markdown",
   "id": "8fad94d9",
   "metadata": {},
   "source": [
    "Observations:\n",
    "- the cells are of different sizes and shapes\n",
    "- some images are brighter than others"
   ]
  },
  {
   "cell_type": "markdown",
   "id": "d17f5c54",
   "metadata": {},
   "source": [
    "Misclassifying the type of cell will be a very costly mistake in terms of the patients health and allocation of medical resources so when choosing a metric we need to choose one like recall which makes sure to minimize false negatives. If we optimize for recall, this might result in an increase in false positives which means that we are now dealing with the same problem. So to minimize false positives and ensure a balance we will also use precision as the other performance metric.\n",
    "\n",
    "The two performance metrics we will focus on are:\n",
    "- recall\n",
    "- precision"
   ]
  },
  {
   "cell_type": "markdown",
   "id": "c81671fb",
   "metadata": {},
   "source": [
    "### Data Pre Processing"
   ]
  },
  {
   "cell_type": "markdown",
   "id": "0f1dec1f",
   "metadata": {},
   "source": []
  }
 ],
 "metadata": {
  "kernelspec": {
   "display_name": "Python 3",
   "language": "python",
   "name": "python3"
  },
  "language_info": {
   "codemirror_mode": {
    "name": "ipython",
    "version": 3
   },
   "file_extension": ".py",
   "mimetype": "text/x-python",
   "name": "python",
   "nbconvert_exporter": "python",
   "pygments_lexer": "ipython3",
   "version": "3.13.3"
  }
 },
 "nbformat": 4,
 "nbformat_minor": 5
}
